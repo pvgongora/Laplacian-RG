{
 "cells": [
  {
   "cell_type": "code",
   "execution_count": 5,
   "id": "3ae51092",
   "metadata": {},
   "outputs": [],
   "source": [
    "import numpy as np\n",
    "import networkx as nx\n",
    "from scipy.linalg import expm, sinm, cosm\n",
    "%matplotlib inline"
   ]
  },
  {
   "cell_type": "code",
   "execution_count": 11,
   "id": "98a4f67d",
   "metadata": {},
   "outputs": [
    {
     "name": "stdout",
     "output_type": "stream",
     "text": [
      "Renormalizing graph\n",
      "OK\n"
     ]
    }
   ],
   "source": [
    "#Take parameters and make the network\n",
    "tau=1e-5\n",
    "G=nx.barabasi_albert_graph(128,1)\n",
    "n=len(G.nodes())\n",
    "w = [G.degree(n) for n in G.nodes()]\n",
    "\n",
    "#Select the Kadanoff supernodes\n",
    "L=nx.laplacian_matrix(G)\n",
    "L1=L.todense()\n",
    "num=expm((-tau*L1))\n",
    "den=np.trace(num)\n",
    "rho=num/den\n",
    "adj2=np.zeros((n,n))\n",
    "for i in range(n):\n",
    "    for j in range(n):\n",
    "        if ((rho[i][j]>=rho[j][j]) or (rho[i][j]>=rho[i][i])):\n",
    "            adj2[i][j]=1\n",
    "            \n",
    "print('Renormalizing graph')\n",
    "\n",
    "#Final downscaled graph\n",
    "G1 = nx.from_numpy_array(adj2)\n",
    "#Contracting nodes\n",
    "for supernode in nx.connected_components(G1):\n",
    "    nodes = sorted(list(supernode))\n",
    "    for node in nodes[1:]:\n",
    "        G = nx.contracted_nodes(G, nodes[0], node,self_loops=False)\n",
    "\n",
    "mapping = {old_label:new_label for new_label, old_label in enumerate(G.nodes())}\n",
    "G = nx.relabel_nodes(G, mapping)\n",
    "w1 = [G.degree(n) for n in G.nodes()]\n",
    "print('OK')\n",
    "        "
   ]
  },
  {
   "cell_type": "code",
   "execution_count": null,
   "id": "72c7bc9c",
   "metadata": {},
   "outputs": [],
   "source": []
  }
 ],
 "metadata": {
  "kernelspec": {
   "display_name": "Python 3",
   "language": "python",
   "name": "python3"
  },
  "language_info": {
   "codemirror_mode": {
    "name": "ipython",
    "version": 3
   },
   "file_extension": ".py",
   "mimetype": "text/x-python",
   "name": "python",
   "nbconvert_exporter": "python",
   "pygments_lexer": "ipython3",
   "version": "3.10.6"
  }
 },
 "nbformat": 4,
 "nbformat_minor": 5
}
